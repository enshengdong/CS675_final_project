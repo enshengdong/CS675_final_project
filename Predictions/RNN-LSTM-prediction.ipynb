{
 "cells": [
  {
   "cell_type": "code",
   "execution_count": 1,
   "metadata": {},
   "outputs": [],
   "source": [
    "from collections import defaultdict \n",
    "import numpy as np\n",
    "import matplotlib.pyplot as plt \n",
    "%matplotlib inline\n",
    "import pandas as pd\n",
    "from datetime import date, datetime, timedelta\n"
   ]
  },
  {
   "cell_type": "code",
   "execution_count": 2,
   "metadata": {},
   "outputs": [],
   "source": [
    "import torch\n",
    "from torch import nn, optim\n"
   ]
  },
  {
   "cell_type": "code",
   "execution_count": 3,
   "metadata": {},
   "outputs": [],
   "source": [
    "def perdelta(start, end, delta):\n",
    "    curr = start\n",
    "    while curr < end:\n",
    "        yield curr\n",
    "        curr += delta\n",
    "target = []\n",
    "for i in perdelta(date(2020, 1, 6), date(2020, 6, 15), timedelta(days=1)):\n",
    "    t =i.strftime('%Y-%m-%d')\n",
    "    target.append(t)"
   ]
  },
  {
   "cell_type": "code",
   "execution_count": 4,
   "metadata": {},
   "outputs": [],
   "source": [
    "cases_date = []\n",
    "for i in perdelta(date(2020, 2, 1), datetime.now().date(), timedelta(days=1)):\n",
    "    t =i.strftime('%Y-%m-%d')\n",
    "    cases_date.append(t)\n",
    "    "
   ]
  },
  {
   "cell_type": "code",
   "execution_count": 5,
   "metadata": {},
   "outputs": [],
   "source": [
    "CSSE_url = 'https://raw.githubusercontent.com/CSSEGISandData/COVID-19/master/csse_covid_19_data/csse_covid_19_time_series/time_series_covid19_confirmed_US.csv'\n",
    "cases = pd.read_csv(CSSE_url, dtype = {'FIPS' : np.str_})\n",
    "cases['FIPS'] = cases['FIPS'].str[:-2].str.zfill(5)\n",
    "cases['FIPS'] = cases['FIPS'].str.zfill(5)\n",
    "\n",
    "cases = cases.dropna()\n",
    "cases = cases.set_index('FIPS')\n",
    "cases = cases[cases['Admin2'] != 'Unassigned']\n",
    "# cases = cases[cases.index.isin(df.index)]\n",
    "\n",
    "daily_cases = cases.iloc[:, 13:] - cases.iloc[:, 13:].shift(axis = 1)\n",
    "# daily_cases_3 = daily_cases.dropna(axis = 1).rolling(window = 3, axis = 1).mean()\n",
    "daily_cases = daily_cases.dropna(axis = 1).rolling(window = 7, axis = 1).mean()\n",
    "daily_cases = daily_cases.dropna(axis = 1)\n",
    "daily_cases.columns = cases_date"
   ]
  },
  {
   "cell_type": "code",
   "execution_count": 6,
   "metadata": {},
   "outputs": [],
   "source": [
    "daily_cases_state = daily_cases.groupby(daily_cases.index.str[:2]).sum()"
   ]
  },
  {
   "cell_type": "code",
   "execution_count": 7,
   "metadata": {},
   "outputs": [],
   "source": [
    "raw_cases = (cases.iloc[:, 13:] - cases.iloc[:, 13:].shift(axis = 1)).dropna(axis = 1)\n",
    "raw_cases_state = raw_cases.groupby(daily_cases.index.str[:2]).sum()\n",
    "raw_cases_state = raw_cases_state.iloc[:, 6:]\n",
    "raw_cases_state.columns = cases_date"
   ]
  },
  {
   "cell_type": "markdown",
   "metadata": {},
   "source": [
    "### Population data"
   ]
  },
  {
   "cell_type": "code",
   "execution_count": 8,
   "metadata": {},
   "outputs": [],
   "source": [
    "demo = pd.read_csv('/Users/hongru/Projects/Covid_projection/data/age_US_state.csv',\n",
    "                  dtype = {'FIPS' : np.str_}).set_index('FIPS')"
   ]
  },
  {
   "cell_type": "markdown",
   "metadata": {},
   "source": [
    "### Load trained model"
   ]
  },
  {
   "cell_type": "code",
   "execution_count": 9,
   "metadata": {},
   "outputs": [],
   "source": [
    "output_size = 7\n",
    "# num_epochs = 2\n",
    "input_size = 12 #input_size = number of features\n",
    "sequence_length = 28 \n",
    "learning_rate = 0.0001\n",
    "num_layers = 1\n",
    "hidden_layer_size = 512\n",
    "sequence_length_features = 15"
   ]
  },
  {
   "cell_type": "code",
   "execution_count": 10,
   "metadata": {},
   "outputs": [],
   "source": [
    "class LSTM(nn.Module):\n",
    "    def __init__(self, input_size, hidden_layer_size, num_layers, output_size):\n",
    "#     input_size=3, hidden_layer_size=256, output_size=1):\n",
    "        super().__init__()\n",
    "#         torch.manual_seed(0)\n",
    "        \n",
    "        self.hidden_layer_size = hidden_layer_size\n",
    "        \n",
    "#         self.hidden_size = hidden_layer_size\n",
    "        \n",
    "        self.num_layers = num_layers\n",
    "\n",
    "        self.lstm = nn.LSTM(input_size, hidden_layer_size, num_layers, batch_first=True, dropout = 0.5)\n",
    "\n",
    "        self.linear = nn.Linear(hidden_layer_size, output_size)\n",
    "    \n",
    "        #hidden cell size: (hidden_size, batch_size, hidden_layer_size)\n",
    "        self.hidden_cell = (torch.zeros(self.num_layers,1,self.hidden_layer_size),\n",
    "                            torch.zeros(self.num_layers,1,self.hidden_layer_size))\n",
    "\n",
    "\n",
    "    def forward(self, input_seq):\n",
    "\n",
    "        lstm_out, self.hidden_cell = self.lstm(input_seq, self.hidden_cell)\n",
    "        \n",
    "        #only return the results for last sequence\n",
    "        lstm_out = lstm_out[:, -1, :]\n",
    "        predictions = self.linear(lstm_out)\n",
    "        return predictions"
   ]
  },
  {
   "cell_type": "code",
   "execution_count": 11,
   "metadata": {},
   "outputs": [],
   "source": [
    "m_state_dict = torch.load('/Users/hongru/Projects/Covid_projection/models/RNN-LSTM-7-day-projection_week44.pt')"
   ]
  },
  {
   "cell_type": "code",
   "execution_count": 12,
   "metadata": {},
   "outputs": [
    {
     "name": "stderr",
     "output_type": "stream",
     "text": [
      "/opt/anaconda3/lib/python3.7/site-packages/torch/nn/modules/rnn.py:61: UserWarning: dropout option adds dropout after all but last recurrent layer, so non-zero dropout expects num_layers greater than 1, but got dropout=0.5 and num_layers=1\n",
      "  \"num_layers={}\".format(dropout, num_layers))\n"
     ]
    },
    {
     "data": {
      "text/plain": [
       "<All keys matched successfully>"
      ]
     },
     "execution_count": 12,
     "metadata": {},
     "output_type": "execute_result"
    }
   ],
   "source": [
    "model = LSTM(input_size, hidden_layer_size, num_layers, output_size)\n",
    "model.load_state_dict(m_state_dict)"
   ]
  },
  {
   "cell_type": "code",
   "execution_count": 13,
   "metadata": {},
   "outputs": [
    {
     "data": {
      "text/plain": [
       "LSTM(\n",
       "  (lstm): LSTM(12, 512, batch_first=True, dropout=0.5)\n",
       "  (linear): Linear(in_features=512, out_features=7, bias=True)\n",
       ")"
      ]
     },
     "execution_count": 13,
     "metadata": {},
     "output_type": "execute_result"
    }
   ],
   "source": [
    "model"
   ]
  },
  {
   "cell_type": "markdown",
   "metadata": {},
   "source": [
    "### import dataframe"
   ]
  },
  {
   "cell_type": "code",
   "execution_count": 14,
   "metadata": {},
   "outputs": [],
   "source": [
    "df = pd.read_pickle('/Users/hongru/Projects/Covid_projection/data/RNN_input_week44.pickle')"
   ]
  },
  {
   "cell_type": "code",
   "execution_count": 16,
   "metadata": {},
   "outputs": [],
   "source": [
    "df = df.set_index(['FIPS', 'Date'])"
   ]
  },
  {
   "cell_type": "code",
   "execution_count": 17,
   "metadata": {},
   "outputs": [],
   "source": [
    "df['cases'] = (df['cases']/df['total_pop'])*10000"
   ]
  },
  {
   "cell_type": "code",
   "execution_count": 18,
   "metadata": {},
   "outputs": [],
   "source": [
    "from sklearn.preprocessing import MinMaxScaler\n"
   ]
  },
  {
   "cell_type": "code",
   "execution_count": 19,
   "metadata": {},
   "outputs": [
    {
     "data": {
      "text/plain": [
       "MinMaxScaler(copy=True, feature_range=(0, 1))"
      ]
     },
     "execution_count": 19,
     "metadata": {},
     "output_type": "execute_result"
    }
   ],
   "source": [
    "scaler = MinMaxScaler(feature_range = (0, 1))\n",
    "scaler.fit(df.iloc[:, 1:])"
   ]
  },
  {
   "cell_type": "code",
   "execution_count": 20,
   "metadata": {},
   "outputs": [],
   "source": [
    "train_features_normalized = scaler.transform(df.iloc[:, 1:])"
   ]
  },
  {
   "cell_type": "code",
   "execution_count": 21,
   "metadata": {},
   "outputs": [
    {
     "data": {
      "text/plain": [
       "MinMaxScaler(copy=True, feature_range=(0, 1))"
      ]
     },
     "execution_count": 21,
     "metadata": {},
     "output_type": "execute_result"
    }
   ],
   "source": [
    "scaler_cases = MinMaxScaler(feature_range = (0, 1))\n",
    "scaler_cases.fit(np.asarray(df.iloc[:,0]).reshape(-1, 1))"
   ]
  },
  {
   "cell_type": "code",
   "execution_count": 22,
   "metadata": {},
   "outputs": [],
   "source": [
    "train_cases_normalized = scaler_cases.transform(np.asarray(df.iloc[:,0]).reshape(-1, 1))"
   ]
  },
  {
   "cell_type": "code",
   "execution_count": 23,
   "metadata": {},
   "outputs": [],
   "source": [
    "df.iloc[:, 1:] = train_features_normalized\n",
    "df['cases'] = train_cases_normalized"
   ]
  },
  {
   "cell_type": "markdown",
   "metadata": {},
   "source": [
    "### First round prediction"
   ]
  },
  {
   "cell_type": "code",
   "execution_count": 24,
   "metadata": {},
   "outputs": [],
   "source": [
    "# test_data_size = 1\n",
    "predict_data = []\n",
    "# test_data = []\n",
    "state_ordered = []\n",
    "for i in df.index.get_level_values('FIPS').unique():\n",
    "    df_state = df.iloc[df.index.get_level_values('FIPS') == i][-(sequence_length):]\n",
    "    \n",
    "    predict_data.append(df_state.to_numpy())\n",
    "    state_ordered.append(i)\n"
   ]
  },
  {
   "cell_type": "code",
   "execution_count": 25,
   "metadata": {},
   "outputs": [],
   "source": [
    "# validation = []\n",
    "pred = []\n",
    "# count = 1\n",
    "result = pd.DataFrame(columns = ['State', 'prediction', 'Actual'])\n",
    "with torch.no_grad():\n",
    "    \n",
    "    for seq in predict_data:\n",
    "        \n",
    "        seq = torch.tensor(seq).reshape(-1, sequence_length, input_size)\n",
    "        model.hidden_cell = (torch.zeros(num_layers, 1, model.hidden_layer_size),\n",
    "                        torch.zeros(num_layers, 1, model.hidden_layer_size))\n",
    "        prediction = model(seq.float())\n",
    "#         validation.append(labels)\n",
    "        pred.append(prediction)\n",
    "\n",
    "        "
   ]
  },
  {
   "cell_type": "markdown",
   "metadata": {},
   "source": [
    "### Prediction for first week"
   ]
  },
  {
   "cell_type": "code",
   "execution_count": 26,
   "metadata": {
    "scrolled": true
   },
   "outputs": [],
   "source": [
    "df_output = pd.DataFrame(columns = ['FIPS', 'Date', 'Predicted_Cases','Week'])\n",
    "j = 0\n",
    "x = pd.to_datetime(daily_cases_state.loc[:,'2020-11-01':'2020-11-07'].columns)\n",
    "for i in state_ordered:\n",
    "    \n",
    "#     plt.figure() # add this statement before your plot\n",
    "    predicted = pred[j]\n",
    "#     actual = validation[j]\n",
    "    incidence = scaler_cases.inverse_transform(np.asarray(predicted).reshape(-1, 1))\n",
    "    pred_cases = (incidence/10000)*demo.loc[i]['total_pop']\n",
    "#     plt.plot(x, pred_cases, label = 'Prediction', marker = 'o')\n",
    "#     plt.plot(x, raw_cases_state.loc[:,'2020-11-01':'2020-11-07'].loc[i], label = 'groundtruth', marker = 'o')\n",
    "#     plt.title(i)\n",
    "#     plt.legend()\n",
    "#     plt.show()\n",
    "    for num in range(len(x)):\n",
    "        dic = {\n",
    "            'FIPS' : i,\n",
    "            'Date' : x[num],\n",
    "            'Predicted_Cases' : pred_cases[num].item(),\n",
    "#             'Ground_truth' : raw_cases_state.loc[:,'2020-11-29':'2020-12-05'].loc[i][num],\n",
    "            'Week' : 'Week1'\n",
    "        }\n",
    "        df_output = df_output.append(dic, ignore_index = True)\n",
    "    j += 1\n",
    "#     print('weekly Prediction: ', np.sum(pred_cases))\n",
    "#     print('weekly groundtruth: ', np.sum(raw_cases_state.loc[:,'2020-11-01':'2020-11-07'].loc[i]))\n"
   ]
  },
  {
   "cell_type": "markdown",
   "metadata": {},
   "source": [
    "### Import feature prediction"
   ]
  },
  {
   "cell_type": "code",
   "execution_count": 27,
   "metadata": {},
   "outputs": [],
   "source": [
    "m_features_state_dict = torch.load('/Users/hongru/Projects/Covid_projection/models/RNN-LSTM-7-day-features_week44.pt')"
   ]
  },
  {
   "cell_type": "code",
   "execution_count": 28,
   "metadata": {},
   "outputs": [
    {
     "name": "stderr",
     "output_type": "stream",
     "text": [
      "/opt/anaconda3/lib/python3.7/site-packages/torch/nn/modules/rnn.py:61: UserWarning: dropout option adds dropout after all but last recurrent layer, so non-zero dropout expects num_layers greater than 1, but got dropout=0.5 and num_layers=1\n",
      "  \"num_layers={}\".format(dropout, num_layers))\n"
     ]
    },
    {
     "data": {
      "text/plain": [
       "<All keys matched successfully>"
      ]
     },
     "execution_count": 28,
     "metadata": {},
     "output_type": "execute_result"
    }
   ],
   "source": [
    "model_features = LSTM(input_size = 12, hidden_layer_size = 258, num_layers = 1, output_size = 9*7)\n",
    "model_features.load_state_dict(m_features_state_dict)"
   ]
  },
  {
   "cell_type": "code",
   "execution_count": 29,
   "metadata": {},
   "outputs": [
    {
     "data": {
      "text/plain": [
       "LSTM(\n",
       "  (lstm): LSTM(12, 258, batch_first=True, dropout=0.5)\n",
       "  (linear): Linear(in_features=258, out_features=63, bias=True)\n",
       ")"
      ]
     },
     "execution_count": 29,
     "metadata": {},
     "output_type": "execute_result"
    }
   ],
   "source": [
    "model_features"
   ]
  },
  {
   "cell_type": "code",
   "execution_count": 30,
   "metadata": {},
   "outputs": [],
   "source": [
    "'''\n",
    "Predict features for week 2\n",
    "'''\n",
    "pred_features_w2 = []\n",
    "# count = 1\n",
    "# result = pd.DataFrame(columns = ['State', 'prediction', 'Actual'])\n",
    "with torch.no_grad():\n",
    "    \n",
    "    for seq in predict_data:\n",
    "        \n",
    "        seq = torch.tensor(seq).reshape(-1, 28, 12)\n",
    "        model_features.hidden_cell = (torch.zeros(num_layers, 1, model_features.hidden_layer_size),\n",
    "                        torch.zeros(num_layers, 1, model_features.hidden_layer_size))\n",
    "        prediction = model_features(seq.float())\n",
    "#         validation.append(labels)\n",
    "        pred_features_w2.append(prediction)\n",
    "      "
   ]
  },
  {
   "cell_type": "code",
   "execution_count": 31,
   "metadata": {},
   "outputs": [],
   "source": [
    "def get_new_predict_data(pred_features, pred, predict_data, df, state_ordered):\n",
    "    \"\"\"\n",
    "    pred_featues: get new predicted times series features\n",
    "    \n",
    "    pred: add new data to pred, remove extra rows\n",
    "    \"\"\"\n",
    "    j = 0\n",
    "    \n",
    "    output_data = []\n",
    "    for i in state_ordered:\n",
    "        \n",
    "        constant = (df.iloc[df.index.get_level_values('FIPS') == i].iloc[:7,-2:]).to_numpy()\n",
    "        #-2 here is the number of constant features\n",
    "        \n",
    "        cases_pred = pred[j]\n",
    "        features_pred = pred_features[j].reshape(7,9)\n",
    "        #3 here is the number of time series features, not include cases\n",
    "        \n",
    "        new_data = np.concatenate((cases_pred.T, features_pred), axis=1)\n",
    "        new_data = np.concatenate((new_data, constant), axis=1)\n",
    "        \n",
    "        nxt_round_data = np.concatenate((predict_data[j][7:], new_data), axis = 0)\n",
    "        \n",
    "        output_data.append(nxt_round_data)\n",
    "        \n",
    "        j += 1\n",
    "        \n",
    "    return output_data"
   ]
  },
  {
   "cell_type": "code",
   "execution_count": 32,
   "metadata": {},
   "outputs": [],
   "source": [
    "input_data_W2 = get_new_predict_data(pred_features_w2, pred, predict_data, df, state_ordered)"
   ]
  },
  {
   "cell_type": "code",
   "execution_count": 33,
   "metadata": {},
   "outputs": [],
   "source": [
    "num_layers = 1\n",
    "pred_w2 = []\n",
    "with torch.no_grad():\n",
    "    \n",
    "    for seq in input_data_W2:\n",
    "        \n",
    "        seq = torch.tensor(seq).reshape(-1, sequence_length, input_size)\n",
    "        model.hidden_cell = (torch.zeros(num_layers, 1, model.hidden_layer_size),\n",
    "                        torch.zeros(num_layers, 1, model.hidden_layer_size))\n",
    "        prediction = model(seq.float())\n",
    "#         validation.append(labels)\n",
    "        pred_w2.append(prediction)"
   ]
  },
  {
   "cell_type": "code",
   "execution_count": 34,
   "metadata": {},
   "outputs": [],
   "source": [
    "w2_date = []\n",
    "for i in perdelta(date(2020, 11, 8), date(2020, 11, 15), timedelta(days=1)):\n",
    "    t =i.strftime('%Y-%m-%d')\n",
    "    w2_date.append(t)\n",
    "    "
   ]
  },
  {
   "cell_type": "markdown",
   "metadata": {},
   "source": [
    "### Prediction for next week"
   ]
  },
  {
   "cell_type": "code",
   "execution_count": 35,
   "metadata": {
    "scrolled": true
   },
   "outputs": [],
   "source": [
    "j = 0\n",
    "x = pd.to_datetime(w2_date)\n",
    "for i in state_ordered:\n",
    "    \n",
    "#     plt.figure() # add this statement before your plot\n",
    "    predicted = pred_w2[j]\n",
    "#     actual = validation[j]\n",
    "    incidence = scaler_cases.inverse_transform(np.asarray(predicted).reshape(-1, 1))\n",
    "    pred_cases_W2 = (incidence/10000)*demo.loc[i]['total_pop']\n",
    "    for num in range(len(x)):\n",
    "        dic = {\n",
    "            'FIPS' : i,\n",
    "            'Date' : x[num],\n",
    "            'Predicted_Cases' : pred_cases_W2[num].item(),\n",
    "#             'Ground_truth' : raw_cases_state.loc[:,'2020-11-29':'2020-12-05'].loc[i][num],\n",
    "            'Week' : 'Week2'\n",
    "        }\n",
    "        df_output = df_output.append(dic, ignore_index = True)\n",
    "    j += 1\n",
    "#     print('Prediction for week 2: ', np.sum(pred_cases))"
   ]
  },
  {
   "cell_type": "markdown",
   "metadata": {},
   "source": [
    "### Week 3"
   ]
  },
  {
   "cell_type": "code",
   "execution_count": 36,
   "metadata": {},
   "outputs": [],
   "source": [
    "'''\n",
    "Predict features for week 3\n",
    "'''\n",
    "pred_features_w3 = []\n",
    "# count = 1\n",
    "# result = pd.DataFrame(columns = ['State', 'prediction', 'Actual'])\n",
    "with torch.no_grad():\n",
    "    \n",
    "    for seq in input_data_W2:\n",
    "        \n",
    "        seq = torch.tensor(seq).reshape(-1, 28, 12)\n",
    "        model_features.hidden_cell = (torch.zeros(num_layers, 1, model_features.hidden_layer_size),\n",
    "                        torch.zeros(num_layers, 1, model_features.hidden_layer_size))\n",
    "        prediction = model_features(seq.float())\n",
    "        pred_features_w3.append(prediction)\n",
    "      "
   ]
  },
  {
   "cell_type": "code",
   "execution_count": 37,
   "metadata": {},
   "outputs": [],
   "source": [
    "input_data_W3 = get_new_predict_data(pred_features_w3, pred_w2, input_data_W2, df, state_ordered)"
   ]
  },
  {
   "cell_type": "code",
   "execution_count": 38,
   "metadata": {},
   "outputs": [],
   "source": [
    "w3_date = []\n",
    "for i in perdelta(date(2020, 11, 15), date(2020, 11, 22), timedelta(days=1)):\n",
    "    t =i.strftime('%Y-%m-%d')\n",
    "    w3_date.append(t)\n",
    "    "
   ]
  },
  {
   "cell_type": "code",
   "execution_count": 39,
   "metadata": {},
   "outputs": [],
   "source": [
    "pred_w3 = []\n",
    "with torch.no_grad():\n",
    "    \n",
    "    for seq in input_data_W3:\n",
    "        \n",
    "        seq = torch.tensor(seq).reshape(-1, sequence_length, input_size)\n",
    "        model.hidden_cell = (torch.zeros(num_layers, 1, model.hidden_layer_size),\n",
    "                        torch.zeros(num_layers, 1, model.hidden_layer_size))\n",
    "        prediction = model(seq.float())\n",
    "#         validation.append(labels)\n",
    "        pred_w3.append(prediction)"
   ]
  },
  {
   "cell_type": "code",
   "execution_count": 40,
   "metadata": {},
   "outputs": [],
   "source": [
    "j = 0\n",
    "x = pd.to_datetime(w3_date)\n",
    "for i in state_ordered:\n",
    "    predicted = pred_w3[j]\n",
    "    incidence = scaler_cases.inverse_transform(np.asarray(predicted).reshape(-1, 1))\n",
    "    pred_cases_W3 = (incidence/10000)*demo.loc[i]['total_pop']\n",
    "    for num in range(len(x)):\n",
    "        dic = {\n",
    "            'FIPS' : i,\n",
    "            'Date' : x[num],\n",
    "            'Predicted_Cases' : pred_cases_W3[num].item(),\n",
    "#             'Ground_truth' : raw_cases_state.loc[:,'2020-11-29':'2020-12-05'].loc[i][num],\n",
    "            'Week' : 'Week3'\n",
    "        }\n",
    "        df_output = df_output.append(dic, ignore_index = True)\n",
    "    j += 1"
   ]
  },
  {
   "cell_type": "markdown",
   "metadata": {},
   "source": [
    "### Week4"
   ]
  },
  {
   "cell_type": "code",
   "execution_count": 42,
   "metadata": {},
   "outputs": [],
   "source": [
    "'''\n",
    "Predict features for week 4\n",
    "'''\n",
    "pred_features_w4 = []\n",
    "# count = 1\n",
    "# result = pd.DataFrame(columns = ['State', 'prediction', 'Actual'])\n",
    "with torch.no_grad():\n",
    "    \n",
    "    for seq in input_data_W3:\n",
    "        \n",
    "        seq = torch.tensor(seq).reshape(-1, 28, 12)\n",
    "        model_features.hidden_cell = (torch.zeros(num_layers, 1, model_features.hidden_layer_size),\n",
    "                        torch.zeros(num_layers, 1, model_features.hidden_layer_size))\n",
    "        prediction = model_features(seq.float())\n",
    "        pred_features_w4.append(prediction)\n",
    "      "
   ]
  },
  {
   "cell_type": "code",
   "execution_count": 43,
   "metadata": {},
   "outputs": [],
   "source": [
    "input_data_W4 = get_new_predict_data(pred_features_w4, pred_w3, input_data_W3, df, state_ordered)"
   ]
  },
  {
   "cell_type": "code",
   "execution_count": 44,
   "metadata": {},
   "outputs": [],
   "source": [
    "w4_date = []\n",
    "for i in perdelta(date(2020, 11, 22), date(2020, 11, 29), timedelta(days=1)):\n",
    "    t =i.strftime('%Y-%m-%d')\n",
    "    w4_date.append(t)\n",
    "    "
   ]
  },
  {
   "cell_type": "code",
   "execution_count": 45,
   "metadata": {},
   "outputs": [],
   "source": [
    "pred_w4 = []\n",
    "with torch.no_grad():\n",
    "    \n",
    "    for seq in input_data_W4:\n",
    "        \n",
    "        seq = torch.tensor(seq).reshape(-1, sequence_length, input_size)\n",
    "        model.hidden_cell = (torch.zeros(num_layers, 1, model.hidden_layer_size),\n",
    "                        torch.zeros(num_layers, 1, model.hidden_layer_size))\n",
    "        prediction = model(seq.float())\n",
    "#         validation.append(labels)\n",
    "        pred_w4.append(prediction)"
   ]
  },
  {
   "cell_type": "code",
   "execution_count": 46,
   "metadata": {},
   "outputs": [],
   "source": [
    "j = 0\n",
    "x = pd.to_datetime(w4_date)\n",
    "for i in state_ordered:\n",
    "    predicted = pred_w4[j]\n",
    "    incidence = scaler_cases.inverse_transform(np.asarray(predicted).reshape(-1, 1))\n",
    "    pred_cases_W4 = (incidence/10000)*demo.loc[i]['total_pop']\n",
    "    for num in range(len(x)):\n",
    "        dic = {\n",
    "            'FIPS' : i,\n",
    "            'Date' : x[num],\n",
    "            'Predicted_Cases' : pred_cases_W4[num].item(),\n",
    "#             'Ground_truth' : raw_cases_state.loc[:,'2020-11-29':'2020-12-05'].loc[i][num],\n",
    "            'Week' : 'Week4'\n",
    "        }\n",
    "        df_output = df_output.append(dic, ignore_index = True)\n",
    "    j += 1"
   ]
  },
  {
   "cell_type": "code",
   "execution_count": 47,
   "metadata": {},
   "outputs": [],
   "source": [
    "# df_output.to_csv('/Users/hongru/Projects/Covid_projection/data/model_outputs_week44.csv')"
   ]
  },
  {
   "cell_type": "code",
   "execution_count": 50,
   "metadata": {},
   "outputs": [
    {
     "data": {
      "text/html": [
       "<div>\n",
       "<style scoped>\n",
       "    .dataframe tbody tr th:only-of-type {\n",
       "        vertical-align: middle;\n",
       "    }\n",
       "\n",
       "    .dataframe tbody tr th {\n",
       "        vertical-align: top;\n",
       "    }\n",
       "\n",
       "    .dataframe thead th {\n",
       "        text-align: right;\n",
       "    }\n",
       "</style>\n",
       "<table border=\"1\" class=\"dataframe\">\n",
       "  <thead>\n",
       "    <tr style=\"text-align: right;\">\n",
       "      <th></th>\n",
       "      <th>FIPS</th>\n",
       "      <th>Date</th>\n",
       "      <th>Predicted_Cases</th>\n",
       "      <th>Week</th>\n",
       "    </tr>\n",
       "  </thead>\n",
       "  <tbody>\n",
       "    <tr>\n",
       "      <th>0</th>\n",
       "      <td>36</td>\n",
       "      <td>2020-11-01</td>\n",
       "      <td>3054.343262</td>\n",
       "      <td>Week1</td>\n",
       "    </tr>\n",
       "    <tr>\n",
       "      <th>1</th>\n",
       "      <td>36</td>\n",
       "      <td>2020-11-02</td>\n",
       "      <td>3117.647461</td>\n",
       "      <td>Week1</td>\n",
       "    </tr>\n",
       "    <tr>\n",
       "      <th>2</th>\n",
       "      <td>36</td>\n",
       "      <td>2020-11-03</td>\n",
       "      <td>3254.234619</td>\n",
       "      <td>Week1</td>\n",
       "    </tr>\n",
       "    <tr>\n",
       "      <th>3</th>\n",
       "      <td>36</td>\n",
       "      <td>2020-11-04</td>\n",
       "      <td>3349.499268</td>\n",
       "      <td>Week1</td>\n",
       "    </tr>\n",
       "    <tr>\n",
       "      <th>4</th>\n",
       "      <td>36</td>\n",
       "      <td>2020-11-05</td>\n",
       "      <td>3427.557617</td>\n",
       "      <td>Week1</td>\n",
       "    </tr>\n",
       "    <tr>\n",
       "      <th>...</th>\n",
       "      <td>...</td>\n",
       "      <td>...</td>\n",
       "      <td>...</td>\n",
       "      <td>...</td>\n",
       "    </tr>\n",
       "    <tr>\n",
       "      <th>1423</th>\n",
       "      <td>20</td>\n",
       "      <td>2020-11-24</td>\n",
       "      <td>1362.552124</td>\n",
       "      <td>Week4</td>\n",
       "    </tr>\n",
       "    <tr>\n",
       "      <th>1424</th>\n",
       "      <td>20</td>\n",
       "      <td>2020-11-25</td>\n",
       "      <td>1348.206177</td>\n",
       "      <td>Week4</td>\n",
       "    </tr>\n",
       "    <tr>\n",
       "      <th>1425</th>\n",
       "      <td>20</td>\n",
       "      <td>2020-11-26</td>\n",
       "      <td>1379.089233</td>\n",
       "      <td>Week4</td>\n",
       "    </tr>\n",
       "    <tr>\n",
       "      <th>1426</th>\n",
       "      <td>20</td>\n",
       "      <td>2020-11-27</td>\n",
       "      <td>1402.068604</td>\n",
       "      <td>Week4</td>\n",
       "    </tr>\n",
       "    <tr>\n",
       "      <th>1427</th>\n",
       "      <td>20</td>\n",
       "      <td>2020-11-28</td>\n",
       "      <td>1459.217773</td>\n",
       "      <td>Week4</td>\n",
       "    </tr>\n",
       "  </tbody>\n",
       "</table>\n",
       "<p>1428 rows × 4 columns</p>\n",
       "</div>"
      ],
      "text/plain": [
       "     FIPS       Date  Predicted_Cases   Week\n",
       "0      36 2020-11-01      3054.343262  Week1\n",
       "1      36 2020-11-02      3117.647461  Week1\n",
       "2      36 2020-11-03      3254.234619  Week1\n",
       "3      36 2020-11-04      3349.499268  Week1\n",
       "4      36 2020-11-05      3427.557617  Week1\n",
       "...   ...        ...              ...    ...\n",
       "1423   20 2020-11-24      1362.552124  Week4\n",
       "1424   20 2020-11-25      1348.206177  Week4\n",
       "1425   20 2020-11-26      1379.089233  Week4\n",
       "1426   20 2020-11-27      1402.068604  Week4\n",
       "1427   20 2020-11-28      1459.217773  Week4\n",
       "\n",
       "[1428 rows x 4 columns]"
      ]
     },
     "execution_count": 50,
     "metadata": {},
     "output_type": "execute_result"
    }
   ],
   "source": [
    "df_output"
   ]
  },
  {
   "cell_type": "code",
   "execution_count": null,
   "metadata": {},
   "outputs": [],
   "source": []
  }
 ],
 "metadata": {
  "kernelspec": {
   "display_name": "Python 3",
   "language": "python",
   "name": "python3"
  },
  "language_info": {
   "codemirror_mode": {
    "name": "ipython",
    "version": 3
   },
   "file_extension": ".py",
   "mimetype": "text/x-python",
   "name": "python",
   "nbconvert_exporter": "python",
   "pygments_lexer": "ipython3",
   "version": "3.7.6"
  }
 },
 "nbformat": 4,
 "nbformat_minor": 4
}
